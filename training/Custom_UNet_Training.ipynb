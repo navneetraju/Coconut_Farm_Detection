{
 "cells": [
  {
   "cell_type": "code",
   "execution_count": null,
   "metadata": {
    "colab": {
     "base_uri": "https://localhost:8080/",
     "height": 123
    },
    "colab_type": "code",
    "id": "A_jxGeaM6KnW",
    "outputId": "0fb75a0b-8296-47cf-984c-198a3f633fe2"
   },
   "outputs": [],
   "source": [
    "%tensorflow_version 1.x\n",
    "import tensorflow as tf\n",
    "import numpy as np\n",
    "from sklearn.model_selection import train_test_split\n",
    "import matplotlib.pyplot as plt\n",
    "import numpy as np \n",
    "import os\n",
    "import skimage.io as io\n",
    "import skimage.transform as trans\n",
    "import numpy as np\n",
    "from keras.models import *\n",
    "from keras.layers import *\n",
    "from keras.optimizers import *\n",
    "from keras import backend as keras\n",
    "from sklearn.metrics import jaccard_score"
   ]
  },
  {
   "cell_type": "code",
   "execution_count": null,
   "metadata": {
    "colab": {},
    "colab_type": "code",
    "id": "nNmvXl7-xyNi"
   },
   "outputs": [],
   "source": [
    "x = np.load('x_train_test.npy')\n",
    "y = np.load('y_train_test.npy')\n",
    "x_val=np.load('x_validation.npy')\n",
    "y_val=np.load('y_validation.npy')"
   ]
  },
  {
   "cell_type": "code",
   "execution_count": null,
   "metadata": {
    "colab": {},
    "colab_type": "code",
    "id": "4bimTTGk3Qe2"
   },
   "outputs": [],
   "source": [
    "x_train, x_test, y_train, y_test = train_test_split(x, y, test_size = 0.2, random_state = 103)\n",
    "y_train = np.reshape(y_train,(1424,256,256,1))\n",
    "y_test = np.reshape(y_test,(356,256,256,1))"
   ]
  },
  {
   "cell_type": "code",
   "execution_count": null,
   "metadata": {
    "colab": {
     "base_uri": "https://localhost:8080/",
     "height": 35
    },
    "colab_type": "code",
    "id": "AuK7WF3K0KBE",
    "outputId": "b484e238-2c2e-4989-c7e8-f8f01a8ed5d7"
   },
   "outputs": [],
   "source": [
    "print('Training Images(x_train) Shape: ',x_train.shape)\n",
    "print('Training Labels(y_train) Shape: ',y_train.shape)\n",
    "print('Testing Images(x_test) Shape: ',x_test.shape)\n",
    "print('Testing Labels(y_test) Shape: ',y_test.shape)\n",
    "print('Validation Images(x_test) Shape: ',x_val.shape)\n",
    "print('Validation Labels(y_test) Shape: ',y_val.shape)"
   ]
  },
  {
   "cell_type": "code",
   "execution_count": null,
   "metadata": {
    "colab": {},
    "colab_type": "code",
    "id": "AymqqaG3-eHH"
   },
   "outputs": [],
   "source": [
    "def satellite(input_img):\n",
    "  \n",
    "  conv_1 = Conv2D(filters = 32,kernel_size=(3,3),strides = (1,1),padding = 'same',kernel_initializer='he_normal')(input_img)\n",
    "  batch_conv1 = BatchNormalization(axis=-1, momentum=0.99, epsilon=0.001)(conv_1)\n",
    "  activate_batch_conv1 = Activation('relu')(batch_conv1)\n",
    "\n",
    "  conv_2 = Conv2D(filters = 32,kernel_size = (3,3),strides = (1,1),padding = 'same',kernel_initializer = 'he_normal')(activate_batch_conv1)\n",
    "  batch_conv2 = BatchNormalization(axis=-1, momentum=0.99, epsilon=0.001)(conv_2)\n",
    "  activate_batch_conv2 = Activation('relu')(batch_conv2)\n",
    "  \n",
    "  \n",
    "  ######### POOL_Start\n",
    "  pool_1 = MaxPooling2D(pool_size = (2,2),strides= (2,2))(activate_batch_conv2)\n",
    "  pool_1 = Dropout(0.025)(pool_1)  \n",
    "  ######### Pool_End\n",
    "  \n",
    "  \n",
    "  conv_3 = Conv2D(filters = 64,kernel_size = (3,3),strides = (1,1),padding = 'same',kernel_initializer='he_normal')(pool_1)\n",
    "  batch_conv3 = BatchNormalization(axis=-1, momentum=0.99, epsilon=0.001)(conv_3)\n",
    "  activate_batch_conv3 = Activation('relu')(batch_conv3)\n",
    "\n",
    "  conv_4 = Conv2D(filters = 64,kernel_size = (3,3),strides = (1,1),padding = 'same',kernel_initializer='he_normal')(activate_batch_conv3)\n",
    "  batch_conv4 = BatchNormalization(axis=-1, momentum=0.99, epsilon=0.001)(conv_4)\n",
    "  activate_batch_conv4 = Activation('relu')(batch_conv4)\n",
    "  \n",
    "  \n",
    "  ######### POOL_Start\n",
    "  pool_2 = MaxPooling2D(pool_size = (2,2),strides= (2,2))(activate_batch_conv4)\n",
    "  pool_2 = Dropout(0.025)(pool_2)  \n",
    "  ######### POOL_End\n",
    "  \n",
    "  \n",
    "  conv_5 = Conv2D(filters = 128,kernel_size = (3,3),strides = (1,1),padding = 'same',kernel_initializer='he_normal')(pool_2)\n",
    "  batch_conv5 = BatchNormalization(axis=-1, momentum=0.99, epsilon=0.001)(conv_5)\n",
    "  activate_batch_conv5 = Activation('relu')(batch_conv5)\n",
    "\n",
    "  conv_6 = Conv2D(filters = 128,kernel_size = (3,3),strides = (1,1),padding = 'same',kernel_initializer='he_normal')(activate_batch_conv5)\n",
    "  batch_conv6 = BatchNormalization(axis=-1, momentum=0.99, epsilon=0.001)(conv_6)\n",
    "  activate_batch_conv6 = Activation('relu')(batch_conv6)\n",
    "  \n",
    "  \n",
    "  ######### POOL_Start\n",
    "  pool_3 = MaxPooling2D(pool_size = (2,2),strides= (2,2))(activate_batch_conv6)\n",
    "  pool_3 = Dropout(0.025)(pool_3)\n",
    "  ######### POOL_End\n",
    "  \n",
    "  \n",
    "  conv_7 = Conv2D(filters = 256,kernel_size = (3,3),strides = (1,1),padding = 'same',kernel_initializer='he_normal')(pool_3)\n",
    "  batch_conv7 = BatchNormalization(axis=-1, momentum=0.99, epsilon=0.001)(conv_7)\n",
    "  activate_batch_conv7 = Activation('relu')(batch_conv7)\n",
    "\n",
    "  conv_8 = Conv2D(filters = 256,kernel_size = (3,3),strides = (1,1),padding = 'same',kernel_initializer='he_normal')(activate_batch_conv7)\n",
    "  batch_conv8 = BatchNormalization(axis=-1, momentum=0.99, epsilon=0.001)(conv_8)\n",
    "  activate_batch_conv8 = Activation('relu')(batch_conv8)\n",
    "  \n",
    "  \n",
    "  #########  POOL\n",
    "  pool_4 = MaxPooling2D(pool_size = (2,2),strides= (2,2))(activate_batch_conv8)\n",
    "  pool_4 = Dropout(0.025)(pool_4)\n",
    "  #########  POOL\n",
    "  \n",
    "  \n",
    "  conv_9 = Conv2D(filters = 512,kernel_size = (3,3),strides = (1,1),padding = 'same',kernel_initializer='he_normal')(pool_4)\n",
    "  batch_conv9 = BatchNormalization(axis=-1, momentum=0.99, epsilon=0.001)(conv_9)\n",
    "  activate_batch_conv9 = Activation('relu')(batch_conv9)\n",
    "\n",
    "  conv_10 = Conv2D(filters = 512,kernel_size = (3,3),strides = (1,1),padding = 'same',kernel_initializer='he_normal')(activate_batch_conv9)\n",
    "  batch_conv10 = BatchNormalization(axis=-1, momentum=0.99, epsilon=0.001)(conv_10)\n",
    "  activate_batch_conv10 = Activation('relu')(batch_conv10)\n",
    "  \n",
    "  \n",
    "  ################Upsample-1 Start\n",
    "  \n",
    "  up1 = UpSampling2D(size = (2,2),interpolation = 'bilinear')(activate_batch_conv10)\n",
    "  up1_conv = Conv2D(filters = 256,kernel_size = (3,3),strides = (1,1),padding = 'same',kernel_initializer='he_normal')(up1)\n",
    "  merge_up1 = concatenate([activate_batch_conv8,up1_conv])\n",
    "  drop_up1 = Dropout(0.025)(merge_up1)\n",
    "  \n",
    "  conv_11 = Conv2D(filters = 256,kernel_size = (3,3),strides = (1,1),padding = 'same',kernel_initializer='he_normal')(drop_up1)\n",
    "  batch_conv11 = BatchNormalization(axis=-1, momentum=0.99, epsilon=0.001)(conv_11)\n",
    "  activate_batch_conv11 = Activation('relu')(batch_conv11)\n",
    "  \n",
    "  conv_12 = Conv2D(filters = 256,kernel_size = (3,3),strides = (1,1),padding = 'same',kernel_initializer='he_normal')(activate_batch_conv11)\n",
    "  batch_conv12 = BatchNormalization(axis=-1, momentum=0.99, epsilon=0.001)(conv_12)\n",
    "  activate_batch_conv12 = Activation('relu')(batch_conv12)\n",
    "  \n",
    "  ################Upsample-1 End\n",
    "  \n",
    "  \n",
    "  ################Upsample-2 Start\n",
    "  \n",
    "  up2 = UpSampling2D(size = (2,2),interpolation = 'bilinear')(activate_batch_conv12)\n",
    "  up2_conv = Conv2D(filters = 128,kernel_size = (3,3),strides = (1,1),padding = 'same',kernel_initializer='he_normal')(up2)\n",
    "  merge_up2 = concatenate([activate_batch_conv6,up2_conv])\n",
    "  drop_up2 = Dropout(0.025)(merge_up2)\n",
    "  \n",
    "  conv_13 = Conv2D(filters = 128,kernel_size = (3,3),strides = (1,1),padding = 'same',kernel_initializer='he_normal')(drop_up2)\n",
    "  batch_conv13 = BatchNormalization(axis=-1, momentum=0.99, epsilon=0.001)(conv_13)\n",
    "  activate_batch_conv13 = Activation('relu')(batch_conv13)\n",
    "  \n",
    "  conv_14 = Conv2D(filters = 128,kernel_size = (3,3),strides = (1,1),padding = 'same',kernel_initializer='he_normal')(activate_batch_conv13)\n",
    "  batch_conv14 = BatchNormalization(axis=-1, momentum=0.99, epsilon=0.001)(conv_14)\n",
    "  activate_batch_conv14 = Activation('relu')(batch_conv14)\n",
    "  \n",
    "  ################Upsample-2 End\n",
    "  \n",
    "  \n",
    "  ################Upsample-3 Start\n",
    "  \n",
    "  up3 = UpSampling2D(size = (2,2),interpolation = 'bilinear')(activate_batch_conv14)\n",
    "  up3_conv = Conv2D(filters = 64,kernel_size = (3,3),strides = (1,1),padding = 'same',kernel_initializer='he_normal')(up3)\n",
    "  merge_up3 = concatenate([activate_batch_conv4,up3_conv])\n",
    "  drop_up3 = Dropout(0.025)(merge_up3)\n",
    "  \n",
    "  conv_15 = Conv2D(filters = 64,kernel_size = (3,3),strides = (1,1),padding = 'same',kernel_initializer='he_normal')(drop_up3)\n",
    "  batch_conv15 = BatchNormalization(axis=-1, momentum=0.99, epsilon=0.001)(conv_15)\n",
    "  activate_batch_conv15 = Activation('relu')(batch_conv15)\n",
    "  \n",
    "  conv_16 = Conv2D(filters = 64,kernel_size = (3,3),strides = (1,1),padding = 'same',kernel_initializer='he_normal')(activate_batch_conv15)\n",
    "  batch_conv16 = BatchNormalization(axis=-1, momentum=0.99, epsilon=0.001)(conv_16)\n",
    "  activate_batch_conv16 = Activation('relu')(batch_conv16)\n",
    "\n",
    "  ################Upsample-3 End\n",
    "  \n",
    "  \n",
    "  ################Upsample-4 Start\n",
    "  \n",
    "  up4 = UpSampling2D(size = (2,2),interpolation = 'bilinear')(activate_batch_conv16)\n",
    "  up4_conv = Conv2D(filters = 32,kernel_size = (3,3),strides = (1,1),padding = 'same',kernel_initializer='he_normal')(up4)\n",
    "  merge_up4 = concatenate([activate_batch_conv2,up4_conv])\n",
    "  drop_up4 = Dropout(0.025)(merge_up4)\n",
    "  \n",
    "  conv_17 = Conv2D(filters = 32,kernel_size = (3,3),strides = (1,1),padding = 'same',kernel_initializer='he_normal')(drop_up4)\n",
    "  batch_conv17 = BatchNormalization(axis=-1, momentum=0.99, epsilon=0.001)(conv_17)\n",
    "  activate_batch_conv17 = Activation('relu')(batch_conv17)\n",
    "  \n",
    "  conv_18 = Conv2D(filters = 32,kernel_size = (3,3),strides = (1,1),padding = 'same',kernel_initializer='he_normal')(activate_batch_conv17)\n",
    "  batch_conv18 = BatchNormalization(axis=-1, momentum=0.99, epsilon=0.001)(conv_18)\n",
    "  activate_batch_conv18 = Activation('relu')(batch_conv18)\n",
    "  \n",
    "  conv_19 = Conv2D(filters = 2,kernel_size = (3,3),strides = (1,1),activation = 'relu',padding = 'same',kernel_initializer='he_normal')(activate_batch_conv18)\n",
    "  conv_20 = Conv2D(filters = 1,kernel_size = (1,1),strides = (1,1),activation = 'sigmoid',padding = 'same',kernel_initializer='he_normal')(conv_19)\n",
    "\n",
    "  ################Upsample-4 End\n",
    "  model = Model(input = [input_img], output =[conv_20])\n",
    "  return model\n",
    "  \n",
    "\n"
   ]
  },
  {
   "cell_type": "code",
   "execution_count": null,
   "metadata": {
    "colab": {},
    "colab_type": "code",
    "id": "2XiONsryMhfB"
   },
   "outputs": [],
   "source": [
    "def jaccard_distance_loss(y_true, y_pred, smooth=100):\n",
    "    \"\"\"\n",
    "    Jaccard = (|X & Y|)/ (|X|+ |Y| - |X & Y|)\n",
    "            = sum(|A*B|)/(sum(|A|)+sum(|B|)-sum(|A*B|))\n",
    "    \n",
    "    The jaccard distance loss is usefull for unbalanced datasets. This has been\n",
    "    shifted so it converges on 0 and is smoothed to avoid exploding or disapearing\n",
    "    gradient.\n",
    "    \n",
    "    Ref: https://en.wikipedia.org/wiki/Jaccard_index\n",
    "    \n",
    "    @url: https://gist.github.com/wassname/f1452b748efcbeb4cb9b1d059dce6f96\n",
    "    @author: wassname\n",
    "    \"\"\"\n",
    "    intersection = K.sum(K.abs(y_true * y_pred), axis=-1)\n",
    "    sum_ = K.sum(K.abs(y_true) + K.abs(y_pred), axis=-1)\n",
    "    jac = (intersection + smooth) / (sum_ - intersection + smooth)\n",
    "    return (1 - jac) * smooth"
   ]
  },
  {
   "cell_type": "code",
   "execution_count": null,
   "metadata": {
    "colab": {
     "base_uri": "https://localhost:8080/",
     "height": 35
    },
    "colab_type": "code",
    "id": "hWkJjJW9Kres",
    "outputId": "6ee1f529-c32f-41aa-9ae9-66978fcaf29e"
   },
   "outputs": [],
   "source": [
    "input_img = Input((256,256,3))\n",
    "model = satellite(input_img)\n",
    "#model.summary()\n",
    "model.compile(optimizer=Adam(), loss=jaccard_distance_loss, metrics=[\"accuracy\"])"
   ]
  },
  {
   "cell_type": "code",
   "execution_count": null,
   "metadata": {
    "colab": {
     "base_uri": "https://localhost:8080/",
     "height": 107
    },
    "colab_type": "code",
    "id": "MXcIfIXoKuye",
    "outputId": "077242d8-4c9c-4b66-c4bb-09381a07fe36"
   },
   "outputs": [],
   "source": [
    "results = model.fit(x_train, y_train, batch_size=32, epochs=50,\n",
    "                    validation_data=(x_test, y_test))"
   ]
  },
  {
   "cell_type": "code",
   "execution_count": null,
   "metadata": {
    "colab": {},
    "colab_type": "code",
    "id": "jSyFcTGUKtnz"
   },
   "outputs": [],
   "source": [
    "res=model.predict(new_x_val)\n",
    "print('IoU(Jaccard Score): ',round(jaccard_score(new_y_val.flatten(),res.flatten().round()),4))"
   ]
  },
  {
   "cell_type": "code",
   "execution_count": null,
   "metadata": {
    "colab": {},
    "colab_type": "code",
    "id": "Fu1TZH9iVnTN"
   },
   "outputs": [],
   "source": [
    "#model.save('/content/drive/My Drive/unet_v2.h5')"
   ]
  }
 ],
 "metadata": {
  "accelerator": "GPU",
  "colab": {
   "collapsed_sections": [],
   "name": "Unet(1).ipynb",
   "provenance": []
  },
  "kernelspec": {
   "display_name": "Python 3",
   "language": "python",
   "name": "python3"
  },
  "language_info": {
   "codemirror_mode": {
    "name": "ipython",
    "version": 3
   },
   "file_extension": ".py",
   "mimetype": "text/x-python",
   "name": "python",
   "nbconvert_exporter": "python",
   "pygments_lexer": "ipython3",
   "version": "3.7.7"
  }
 },
 "nbformat": 4,
 "nbformat_minor": 1
}
