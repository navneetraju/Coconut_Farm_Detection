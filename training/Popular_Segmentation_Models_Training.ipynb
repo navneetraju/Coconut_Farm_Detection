{
 "cells": [
  {
   "cell_type": "code",
   "execution_count": null,
   "metadata": {
    "colab": {
     "base_uri": "https://localhost:8080/",
     "height": 35
    },
    "colab_type": "code",
    "id": "9qFL7hUKgENv",
    "outputId": "68e030bc-5f80-4007-f700-2410128848ff"
   },
   "outputs": [],
   "source": [
    "%tensorflow_version 1.x\n",
    "!pip install segmentation-models==0.2.1"
   ]
  },
  {
   "cell_type": "code",
   "execution_count": null,
   "metadata": {},
   "outputs": [],
   "source": [
    "import tensorflow as tf\n",
    "import numpy as np\n",
    "from sklearn.model_selection import train_test_split\n",
    "from segmentation_models import Unet\n",
    "from segmentation_models.backbones import get_preprocessing\n",
    "from segmentation_models.losses import jaccard_loss\n",
    "from segmentation_models.metrics import iou_score\n",
    "from keras.callbacks import *\n",
    "from sklearn.metrics import jaccard_score"
   ]
  },
  {
   "cell_type": "code",
   "execution_count": null,
   "metadata": {
    "colab": {
     "base_uri": "https://localhost:8080/",
     "height": 35
    },
    "colab_type": "code",
    "id": "f3GmyMaXef1a",
    "outputId": "20016a46-9c17-4346-c3ba-0612d6f5692f"
   },
   "outputs": [],
   "source": [
    "x = np.load('x_train_test.npy')\n",
    "y = np.load('y_train_test.npy')\n",
    "x_val=np.load('x_validation.npy')\n",
    "y_val=np.load('y_validation.npy')"
   ]
  },
  {
   "cell_type": "code",
   "execution_count": null,
   "metadata": {},
   "outputs": [],
   "source": [
    "x_train, x_test, y_train, y_test = train_test_split(x, y, test_size = 0.2, random_state = 103)\n",
    "y_train = np.reshape(y_train,(1424,256,256,1))\n",
    "y_test = np.reshape(y_test,(356,256,256,1))"
   ]
  },
  {
   "cell_type": "code",
   "execution_count": null,
   "metadata": {},
   "outputs": [],
   "source": [
    "print('Training Images(x_train) Shape: ',x_train.shape)\n",
    "print('Training Labels(y_train) Shape: ',y_train.shape)\n",
    "print('Testing Images(x_test) Shape: ',x_test.shape)\n",
    "print('Testing Labels(y_test) Shape: ',y_test.shape)\n",
    "print('Validation Images(x_test) Shape: ',x_val.shape)\n",
    "print('Validation Labels(y_test) Shape: ',y_val.shape)"
   ]
  },
  {
   "cell_type": "code",
   "execution_count": null,
   "metadata": {
    "colab": {},
    "colab_type": "code",
    "id": "9SCOzQZGgRLh"
   },
   "outputs": [],
   "source": [
    "def jaccard_distance_loss(y_true, y_pred, smooth=100):\n",
    "    \"\"\"\n",
    "    Jaccard = (|X & Y|)/ (|X|+ |Y| - |X & Y|)\n",
    "            = sum(|A*B|)/(sum(|A|)+sum(|B|)-sum(|A*B|))\n",
    "    \n",
    "    The jaccard distance loss is usefull for unbalanced datasets. This has been\n",
    "    shifted so it converges on 0 and is smoothed to avoid exploding or disapearing\n",
    "    gradient.\n",
    "    \n",
    "    Ref: https://en.wikipedia.org/wiki/Jaccard_index\n",
    "    \n",
    "    @url: https://gist.github.com/wassname/f1452b748efcbeb4cb9b1d059dce6f96\n",
    "    @author: wassname\n",
    "    \"\"\"\n",
    "    intersection = K.sum(K.abs(y_true * y_pred), axis=-1)\n",
    "    sum_ = K.sum(K.abs(y_true) + K.abs(y_pred), axis=-1)\n",
    "    jac = (intersection + smooth) / (sum_ - intersection + smooth)\n",
    "    return (1 - jac) * smooth"
   ]
  },
  {
   "cell_type": "code",
   "execution_count": null,
   "metadata": {
    "colab": {
     "base_uri": "https://localhost:8080/",
     "height": 125
    },
    "colab_type": "code",
    "id": "XGK0CNbDfw4E",
    "outputId": "536f0fb8-ee44-4623-e6d0-51a9b085ccc5"
   },
   "outputs": [],
   "source": [
    "'''\n",
    "Backbones used for model evaluations:\n",
    "1. vgg19\n",
    "2. seresnet18\n",
    "3. resnet152\n",
    "4. densenet121\n",
    "5. mobilenet\n",
    "'''\n",
    "BACKBONE = 'REPLACE_BACKBONE_NAME_HERE'\n",
    "preprocess_input = get_preprocessing(BACKBONE)\n",
    "model = Unet(BACKBONE,encoder_weights=None)\n",
    "model.compile(optimizer=\"Adam\", loss= jaccard_distance_loss, metrics=['accuracy',iou_score])"
   ]
  },
  {
   "cell_type": "code",
   "execution_count": null,
   "metadata": {
    "colab": {
     "base_uri": "https://localhost:8080/",
     "height": 1000
    },
    "colab_type": "code",
    "id": "Zuh431HEgGKN",
    "outputId": "d667a581-adf9-430b-8bab-d6f8f2ef2388"
   },
   "outputs": [],
   "source": [
    "model.fit(\n",
    "    x=x_train,\n",
    "    y=y_train,\n",
    "    batch_size=16,\n",
    "    epochs=50,\n",
    "    validation_data = (x_test,y_test)\n",
    ")"
   ]
  },
  {
   "cell_type": "code",
   "execution_count": null,
   "metadata": {
    "colab": {},
    "colab_type": "code",
    "id": "XZEP1hJ2SS1R"
   },
   "outputs": [],
   "source": [
    "model.save(\"/content/drive/My Drive/seresnet18_coco.h5\")"
   ]
  },
  {
   "cell_type": "code",
   "execution_count": null,
   "metadata": {
    "colab": {
     "base_uri": "https://localhost:8080/",
     "height": 70
    },
    "colab_type": "code",
    "id": "EOer3QakhYbW",
    "outputId": "dee04e8f-c4da-4afa-de94-35ef13a1c05c"
   },
   "outputs": [],
   "source": [
    "res=model.predict(new_x_val)\n",
    "print('IoU(Jaccard Score) :',round(jaccard_score(new_y_val.flatten(),res.flatten().round()),4))"
   ]
  }
 ],
 "metadata": {
  "accelerator": "GPU",
  "colab": {
   "collapsed_sections": [],
   "name": "Skeletal_Code.ipynb",
   "provenance": []
  },
  "kernelspec": {
   "display_name": "Python 3",
   "language": "python",
   "name": "python3"
  },
  "language_info": {
   "codemirror_mode": {
    "name": "ipython",
    "version": 3
   },
   "file_extension": ".py",
   "mimetype": "text/x-python",
   "name": "python",
   "nbconvert_exporter": "python",
   "pygments_lexer": "ipython3",
   "version": "3.7.7"
  }
 },
 "nbformat": 4,
 "nbformat_minor": 1
}
